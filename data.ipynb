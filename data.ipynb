{
 "cells": [
  {
   "cell_type": "code",
   "execution_count": 1,
   "metadata": {
    "collapsed": true
   },
   "outputs": [],
   "source": [
    "import os\n",
    "import zipfile\n",
    "\n",
    "# Define the path to the uploaded zip file\n",
    "zip_path = \"20240319172216.zip\"\n",
    "\n",
    "# Define the path to the directory where the files will be extracted\n",
    "extracted_path = \"20240319172216\"\n",
    "\n",
    "# Create a ZipFile object\n",
    "with zipfile.ZipFile(zip_path, 'r') as zip_ref:\n",
    "    # Extract all the files\n",
    "    zip_ref.extractall(extracted_path)\n"
   ]
  },
  {
   "cell_type": "code",
   "execution_count": 3,
   "outputs": [
    {
     "name": "stdout",
     "output_type": "stream",
     "text": [
      "所有在'20240319172216'及其子目录下的.gz文件已解压、重命名为.jpg格式并保存至'ticket'目录中。\n"
     ]
    }
   ],
   "source": [
    "import gzip\n",
    "import shutil\n",
    "import os\n",
    "\n",
    "def decompress_and_rename_gz_to_jpg(source_dir, target_dir):\n",
    "    if not os.path.exists(target_dir):\n",
    "        os.makedirs(target_dir)\n",
    "\n",
    "    for root, dirs, files in os.walk(source_dir):\n",
    "        for filename in files:\n",
    "            if filename.endswith('.gz'):\n",
    "                gz_file = os.path.join(root, filename)\n",
    "\n",
    "                # 获取去掉.gz扩展名的文件名\n",
    "                base_name = os.path.splitext(filename)[0]\n",
    "\n",
    "                # 解压.gz文件到同目录下的新文件\n",
    "                with gzip.open(gz_file, 'rb') as f_in:\n",
    "                    temp_file_path = os.path.join(root, base_name)\n",
    "                    with open(temp_file_path, 'wb') as f_out:\n",
    "                        shutil.copyfileobj(f_in, f_out)\n",
    "\n",
    "                # 在解压后的文件名后添加.jpg后缀，并进行重命名\n",
    "                new_filename = base_name + '.jpg'\n",
    "                new_temp_path = os.path.join(root, new_filename)\n",
    "                os.rename(temp_file_path, new_temp_path)\n",
    "\n",
    "                # 将新的.jpg文件移动到目标目录\n",
    "                new_target_path = os.path.join(target_dir, new_filename)\n",
    "                shutil.move(new_temp_path, new_target_path)\n",
    "\n",
    "# 调用函数，指定要搜索和处理的源目录及目标目录\n",
    "decompress_and_rename_gz_to_jpg('20240319172216', 'ticket')\n",
    "\n",
    "print(\"所有在'20240319172216'及其子目录下的.gz文件已解压、重命名为.jpg格式并保存至'ticket'目录中。\")\n"
   ],
   "metadata": {
    "collapsed": false,
    "pycharm": {
     "name": "#%%\n"
    }
   }
  },
  {
   "cell_type": "code",
   "execution_count": null,
   "outputs": [],
   "source": [],
   "metadata": {
    "collapsed": false,
    "pycharm": {
     "name": "#%%\n"
    }
   }
  }
 ],
 "metadata": {
  "kernelspec": {
   "display_name": "Python 3",
   "language": "python",
   "name": "python3"
  },
  "language_info": {
   "codemirror_mode": {
    "name": "ipython",
    "version": 2
   },
   "file_extension": ".py",
   "mimetype": "text/x-python",
   "name": "python",
   "nbconvert_exporter": "python",
   "pygments_lexer": "ipython2",
   "version": "2.7.6"
  }
 },
 "nbformat": 4,
 "nbformat_minor": 0
}